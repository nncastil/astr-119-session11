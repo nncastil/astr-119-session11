{
 "cells": [
  {
   "cell_type": "markdown",
   "metadata": {},
   "source": [
    "## ordinary differential equations\n",
    "\n",
    "    equations that depend on a single variable (x or time, etc)\n",
    "\n",
    "    involves one or more derivatives of the function with any combo of f and the independent variable (slide 5)\n",
    "\n",
    "    solve for f(t) for all t that satisfies the equality\n",
    "    \n",
    "boundary conditions\n",
    "    - condition of f(t0) at some time t0 (bc + c is arbitrary)\n",
    "    v(t = 0) = v0\n",
    "    y(t = 0) = y0"
   ]
  },
  {
   "cell_type": "markdown",
   "metadata": {},
   "source": [
    "## Runge-Kutta Method\n",
    "\n",
    "- second order, midpoint method (half-step fi+1/2)\n",
    "- if we know fi and fi+1\n",
    "(slide 12)"
   ]
  },
  {
   "cell_type": "code",
   "execution_count": null,
   "metadata": {},
   "outputs": [],
   "source": [
    "%matplotlib inline\n",
    "import matplotlib.pyplot as plt\n",
    "import numpy as np"
   ]
  },
  {
   "cell_type": "code",
   "execution_count": null,
   "metadata": {},
   "outputs": [],
   "source": [
    "#define function to integrate\n",
    "def dfdx(x,f):\n",
    "    return x**2 + x"
   ]
  },
  {
   "cell_type": "code",
   "execution_count": null,
   "metadata": {},
   "outputs": [],
   "source": [
    "#define integral\n",
    "def f_int(x,C):\n",
    "    return (x**3)/3. + 0.5*x**2 + C    #what we are trying to find"
   ]
  },
  {
   "cell_type": "code",
   "execution_count": null,
   "metadata": {},
   "outputs": [],
   "source": [
    "#define core for integration scheme\n",
    "def rk2_core(x_i,f_i,h,g):\n",
    "    \n",
    "    #g is the derivative\n",
    "    #advance f by a step h\n",
    "    \n",
    "    #half step\n",
    "    x_ipoh = x_i + 0.5*h\n",
    "    f_ipoh = f_i + 0.5*h*g(x_i,f_i)\n",
    "    \n",
    "    #full step\n",
    "    f_ipo = f_i + h*g(x_ipoh,f_ipoh)    #full step from left to right side of interval\n",
    "    \n",
    "    return f_ipo"
   ]
  },
  {
   "cell_type": "code",
   "execution_count": null,
   "metadata": {},
   "outputs": [],
   "source": [
    "#define wrapper routine\n",
    "def rk2(dfdx,a,b,f_a,N):\n",
    "    \n",
    "    #dfdx is the derivative wrt x\n",
    "    #a = lower bound\n",
    "    #b = upper bound\n",
    "    #f_a = boundary condition at a \n",
    "    #N = number of steps\n",
    "    \n",
    "    #define steps\n",
    "    x = np.linspace(a,b,N)\n",
    "    \n",
    "    #a single step size\n",
    "    h = x[1]-x[0]\n",
    "    \n",
    "    #array to hold f\n",
    "    f = np.zeros(N,dtype=float)\n",
    "    \n",
    "    f[0] = f_a    #value f at a\n",
    "    \n",
    "    #evolve f along x\n",
    "    for i in range(1,N):\n",
    "        f[i] = rk2_core(x[i-1],x[i-1],h,dfdx)\n",
    "        \n",
    "    return x,f"
   ]
  },
  {
   "cell_type": "markdown",
   "metadata": {},
   "source": [
    "- 4th order RK method"
   ]
  },
  {
   "cell_type": "code",
   "execution_count": null,
   "metadata": {},
   "outputs": [],
   "source": [
    "def rk4_core(x_i,f_i,h,g):\n",
    "    \n",
    "    #define x at 1/2 step\n",
    "    x_ipoh = x_i + 0.5*h\n",
    "    \n",
    "    #define x at 1 step\n",
    "    x_ipo = x_i + h\n",
    "    \n",
    "    #advance f by step h\n",
    "    \n",
    "    k_1 = h*g(x_i,f_i)\n",
    "    k_2 = h*g(x_ipoh, f_i + 0.5*k_1)\n",
    "    k_3 = h*g(x_ipoh, f_i + 0.5*k_2)\n",
    "    k_4 = h*g(x_ipoh, f_i + k_3)\n",
    "    \n",
    "    f_ipo = f_i + (k_1 + 2*k_2 + 2*k_3 + k_4)/6\n",
    "    \n",
    "    return f_ipo"
   ]
  },
  {
   "cell_type": "code",
   "execution_count": null,
   "metadata": {},
   "outputs": [],
   "source": [
    "#wrapper\n",
    "def rk4(dfdx,a,b,f_a,N):\n",
    "    \n",
    "    x = np.linspace(a,b,N)\n",
    "    \n",
    "    h = x[1]-x[0]\n",
    "    \n",
    "    f = np.zeros(N,dtype=float)\n",
    "    \n",
    "    f[0] = f_a\n",
    "    \n",
    "    for i in range(1,N):\n",
    "        f[i] = rk4_core(x[i-1],f[i-1],h,dfdx)\n",
    "        \n",
    "    return x,f"
   ]
  },
  {
   "cell_type": "markdown",
   "metadata": {},
   "source": [
    "perform the integration"
   ]
  },
  {
   "cell_type": "code",
   "execution_count": null,
   "metadata": {},
   "outputs": [],
   "source": [
    "a = 0.0\n",
    "b = 1.0\n",
    "f_a = 0.0\n",
    "\n",
    "N = 10\n",
    "\n",
    "x_2, f_2 = rk2(dfdx,a,b,f_a,N)\n",
    "x_4, f_4 = rk4(dfdx,a,b,f_a,N)\n",
    "x = x_2.copy()\n",
    "fig = plt.figure(figsize=(7,7))\n",
    "plt.plot(x_2,f_2,label='RK2')\n",
    "plt.plot(x_4,f_4,label='RK4')\n",
    "plt.plot(x,f_int(x,f_a),'o',label='Analytic')\n",
    "plt.legend(frameon=False)"
   ]
  },
  {
   "cell_type": "markdown",
   "metadata": {},
   "source": [
    "- plot the error"
   ]
  },
  {
   "cell_type": "code",
   "execution_count": null,
   "metadata": {},
   "outputs": [],
   "source": [
    "a = 0.0\n",
    "b = 1.0\n",
    "f_a = 0.0\n",
    "N = 10\n",
    "x_2, f_2 = rk2(dfdx,a,b,f_a,N)\n",
    "x_4, f_4 = rk4(dfdx,a,b,f_a,N)\n",
    "x = x_2.copy()\n",
    "f_analytic = f_int(x,f_a)\n",
    "\n",
    "error_2 = (f_2 - f_analytic)/f_analytic\n",
    "error_4 = (f_4 - f_analytic)/f_analytic\n",
    "\n",
    "fig = plt.figure(figsize=(7,7))\n",
    "plt.plot(x_2,f_2,label='RK2')\n",
    "plt.plot(x_4,f_4,label='RK4')\n",
    "plt.plot(x,f_int(x,f_a),'o',label='Analytic')\n",
    "plt.legend(frameon=False)\n",
    "\n",
    "#and then a bunch of stuff we missed mate"
   ]
  },
  {
   "cell_type": "code",
   "execution_count": null,
   "metadata": {},
   "outputs": [],
   "source": []
  }
 ],
 "metadata": {
  "kernelspec": {
   "display_name": "Python 3",
   "language": "python",
   "name": "python3"
  },
  "language_info": {
   "codemirror_mode": {
    "name": "ipython",
    "version": 3
   },
   "file_extension": ".py",
   "mimetype": "text/x-python",
   "name": "python",
   "nbconvert_exporter": "python",
   "pygments_lexer": "ipython3",
   "version": "3.6.5"
  }
 },
 "nbformat": 4,
 "nbformat_minor": 2
}
